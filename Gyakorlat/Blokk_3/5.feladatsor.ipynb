{
 "cells": [
  {
   "cell_type": "markdown",
   "metadata": {},
   "source": [
    "## <center>5. Feladatsor</center>"
   ]
  },
  {
   "cell_type": "markdown",
   "metadata": {},
   "source": [
    "### <center>Gauss-féle normálegyenletek</center>"
   ]
  },
  {
   "cell_type": "markdown",
   "metadata": {},
   "source": [
    "<b>1.feladat.</b> Adjuk meg a megadott $(t_i, f_i)$ "
   ]
  },
  {
   "cell_type": "markdown",
   "metadata": {},
   "source": [
    "\n",
    "  <tr>\n",
    "<td>t_i | -2 | -1 | 1 | 2 </td>\n",
    "  </tr>\n",
    "  <br>\n",
    "  <tr>\n",
    "    <td>f_i | 3 | 1 | 0 | 2   </td>\n",
    "  </tr>"
   ]
  },
  {
   "cell_type": "markdown",
   "metadata": {},
   "source": [
    "pontokat négyzetesen legjobban közelítő\n",
    "<br>\n",
    "\n",
    "+ egyenest (lineáris regresszió): $F(t)=x_1+x_2t$\n",
    "+ parabolát: $F(t)=x_1+x_2t+x_3t^2$\n",
    "\n",
    "<br>\n",
    "a Gauss-féle normálegyenlet segítségével! Az adatokat, a közelítő egyenest és parabolát egy ábrán címkézve ábrzázoljuk! Továbbá számítsuk ki a maradékvektor euklideszi hosszának négyzetét, azaz a $J(x)=||Ax-f||_2^2$ értéket!<br>"
   ]
  },
  {
   "cell_type": "code",
   "execution_count": 1,
   "metadata": {},
   "outputs": [
    {
     "name": "stdout",
     "output_type": "stream",
     "text": [
      "x =\n",
      "\n",
      "   1.50000\n",
      "  -0.30000\n",
      "\n"
     ]
    }
   ],
   "source": [
    "%% Egyenes (Linearis regresszio)\n",
    "t = [-2 -1 1 2];\n",
    "f = [3 1 0 2];\n",
    "\n",
    "% A levezetett M*x=f_hullam LAER\n",
    "M = [length(t) sum(t); sum(t) sum(t.^2)];\n",
    "f_hullam = [sum(f) t*f']';\n",
    "\n",
    "% A megoldas x=(x_1 x_2)^T\n",
    "x = M\\f_hullam"
   ]
  },
  {
   "cell_type": "code",
   "execution_count": 2,
   "metadata": {},
   "outputs": [
    {
     "name": "stdout",
     "output_type": "stream",
     "text": [
      "A =\n",
      "\n",
      "   1  -2\n",
      "   1  -1\n",
      "   1   1\n",
      "   1   2\n",
      "\n",
      "x =\n",
      "\n",
      "   1.50000\n",
      "  -0.30000\n",
      "\n"
     ]
    }
   ],
   "source": [
    "%% Egyenes (Linearis regresszio)\n",
    "t = [-2 -1 1 2];\n",
    "f = [3 1 0 2];\n",
    "A = [ones(length(t),1) t']\n",
    "\n",
    "% A Gauss-fele normalegyenlet A^TAx=A^Tf megoldasa x = (A^TA)\\(A^Tf) \n",
    "x = (A'*A)\\(A'*f')"
   ]
  },
  {
   "cell_type": "code",
   "execution_count": 3,
   "metadata": {},
   "outputs": [
    {
     "name": "stdout",
     "output_type": "stream",
     "text": [
      "A =\n",
      "\n",
      "   1  -2   4\n",
      "   1  -1   1\n",
      "   1   1   1\n",
      "   1   2   4\n",
      "\n",
      "x =\n",
      "\n",
      "  -0.16667\n",
      "  -0.30000\n",
      "   0.66667\n",
      "\n"
     ]
    }
   ],
   "source": [
    "%% Parabola\n",
    "t = [-2 -1 1 2];\n",
    "f = [3 1 0 2];\n",
    "A = [ones(length(t),1) t' (t.^2)']\n",
    "\n",
    "% A Gauss-fele normalegyenlet A^TAx=A^Tf megoldasa x = (A^TA)\\(A^Tf) \n",
    "x = (A'*A)\\(A'*f')"
   ]
  },
  {
   "cell_type": "code",
   "execution_count": 4,
   "metadata": {},
   "outputs": [
    {
     "data": {
      "image/png": "[encoded data removed]",
      "text/plain": [
       "<IPython.core.display.Image object>"
      ]
     },
     "metadata": {},
     "output_type": "display_data"
    }
   ],
   "source": [
    "%% Minden egyben abraval egyutt\n",
    "t = [-2 -1 1 2];\n",
    "f = [3 1 0 2];\n",
    "A_linreg = [ones(length(t),1) t'];\n",
    "A_parabola = [ones(length(t),1) t' (t.^2)'];\n",
    "\n",
    "% A Gauss-fele normalegyenlet A^TAx=A^Tf megoldasa x = (A^TA)\\(A^Tf) \n",
    "x_linreg = (A_linreg'*A_linreg)\\(A_linreg'*f');\n",
    "x_parabola = (A_parabola'*A_parabola)\\(A_parabola'*f');\n",
    "\n",
    "%% Abrazolas\n",
    "tt = t(1):0.01:t(end); % idopontok finom felosztasa \n",
    "%plot(t,f,'mo',tt,x_linreg(1)+x_linreg(2)*tt,tt,x_parabola(1)+x_parabola(2)*tt+x_parabola(3)*tt.^2)\n",
    "\n",
    "%% polyval es a flip paraccsal minden kompaktul\n",
    "plot(t,f,'mo',tt,polyval(flip(x_linreg),tt),tt,polyval(flip(x_parabola),tt))\n",
    "legend('Adatok','Egyenes (Linearis Regresszio)','Parabola')"
   ]
  },
  {
   "cell_type": "code",
   "execution_count": 5,
   "metadata": {},
   "outputs": [
    {
     "name": "stdout",
     "output_type": "stream",
     "text": [
      "J_linreg =  4.1000\n",
      "J_parabola =  0.10000\n"
     ]
    }
   ],
   "source": [
    "%% J(x) maradek vektor szamítasa\n",
    "J_linreg = norm(A_linreg*x_linreg-f',2)^2\n",
    "J_parabola = norm(A_parabola*x_parabola-f',2)^2"
   ]
  },
  {
   "cell_type": "markdown",
   "metadata": {},
   "source": [
    "<br>\n",
    "<b>2.feladat.</b> Írjunk programot <i>legkisebbnegyzetek.m</i> néven, amely megadja a megadott $(t_i, f_i)$ pontokat négyzetesen legjobban közelítõ $n$-edfokú polinom együtthatóit a Gauss-féle normálegyenlet segítségével és kiszámítja a maradékvektor euklideszi hosszának négyzetét!\n",
    "\n",
    "<br> Alkalmazzuk a programunkat az előző feladatra!"
   ]
  },
  {
   "cell_type": "code",
   "execution_count": 6,
   "metadata": {},
   "outputs": [
    {
     "name": "stdout",
     "output_type": "stream",
     "text": [
      "x =\n",
      "\n",
      "   1.50000\n",
      "  -0.30000\n",
      "\n",
      "Jnorma =  4.1000\n"
     ]
    }
   ],
   "source": [
    "t = [-2 -1 1 2];\n",
    "f = [3 1 0 2];\n",
    "[x,Jnorma]=legkisebbnegyzetek(t,f,1)"
   ]
  },
  {
   "cell_type": "code",
   "execution_count": 7,
   "metadata": {},
   "outputs": [
    {
     "name": "stdout",
     "output_type": "stream",
     "text": [
      "x =\n",
      "\n",
      "  -0.16667\n",
      "  -0.30000\n",
      "   0.66667\n",
      "\n",
      "Jnorma =  0.10000\n"
     ]
    }
   ],
   "source": [
    "t = [-2 -1 1 2];\n",
    "f = [3 1 0 2];\n",
    "[x,Jnorma]=legkisebbnegyzetek(t,f,2)"
   ]
  },
  {
   "cell_type": "markdown",
   "metadata": {},
   "source": [
    "<br>\n",
    "<b>3.feladat.</b> Beépített függvények segítségével írjunk egy általános eljárást, mely ábrázolja a közelítő polinomot az adatokkal együtt. Alkalmazzuk ezt az <b>1.feladat.</b> adataira!"
   ]
  },
  {
   "cell_type": "code",
   "execution_count": 8,
   "metadata": {},
   "outputs": [
    {
     "name": "stdout",
     "output_type": "stream",
     "text": [
      "P =\n",
      "\n",
      "  -0.30000   1.50000\n",
      "\n"
     ]
    },
    {
     "data": {
      "image/png": "[encoded data removed]",
      "text/plain": [
       "<IPython.core.display.Image object>"
      ]
     },
     "metadata": {},
     "output_type": "display_data"
    }
   ],
   "source": [
    "t = [-2 -1 1 2];\n",
    "f = [3 1 0 2];\n",
    "\n",
    "P = polyfit(t,f,1) \n",
    "tt = t(1):0.01:t(end);\n",
    "%% tt = linspace(t(1),t(end), 256) alternativa\n",
    "\n",
    "linreg=polyval(P,tt);\n",
    "plot(t,f,'*',tt,linreg)"
   ]
  },
  {
   "cell_type": "code",
   "execution_count": 9,
   "metadata": {},
   "outputs": [
    {
     "name": "stdout",
     "output_type": "stream",
     "text": [
      "P =\n",
      "\n",
      "   0.66667  -0.30000  -0.16667\n",
      "\n"
     ]
    },
    {
     "data": {
      "image/png": "[encoded data removed]",
      "text/plain": [
       "<IPython.core.display.Image object>"
      ]
     },
     "metadata": {},
     "output_type": "display_data"
    }
   ],
   "source": [
    "t = [-2 -1 1 2];\n",
    "f = [3 1 0 2];\n",
    "\n",
    "P = polyfit(t,f,2) \n",
    "tt = t(1):0.01:t(end);\n",
    "%% tt = linspace(t(1),t(end), 256) alternativa\n",
    "\n",
    "parabola=polyval(P,tt);\n",
    "plot(t,f,'*',tt,parabola)"
   ]
  },
  {
   "cell_type": "markdown",
   "metadata": {},
   "source": [
    "<br>\n",
    "<b>4.feladat.</b> Adjuk meg a megadott $(t_i,f_i)$"
   ]
  },
  {
   "cell_type": "markdown",
   "metadata": {},
   "source": [
    "  <tr>\n",
    "<td>t_i | -20 | -1 | 1 | 12 </td>\n",
    "  </tr>\n",
    "  <br>\n",
    "  <tr>\n",
    "    <td>f_i | -11 | 1 | 0 | 2   </td>\n",
    "  </tr>"
   ]
  },
  {
   "cell_type": "markdown",
   "metadata": {},
   "source": [
    "pontokat négyzetesen legjobban közelítő\n",
    "<br>\n",
    "\n",
    "$$F(t)=\\frac{x_1}{t}+x_2\\sin^2\\left(\\frac{\\pi t}{2}\\right)$$\n",
    "\n",
    "<br>\n",
    "a Gauss-féle normálegyenlet segítségével! Az adatokat és a folyamatmodellt egy ábrán címkézve ábrzázoljuk! Számítsuk ki a maradékvektor euklideszi hosszának négyzetét!<br>"
   ]
  },
  {
   "cell_type": "code",
   "execution_count": 10,
   "metadata": {},
   "outputs": [
    {
     "name": "stdout",
     "output_type": "stream",
     "text": [
      "x =\n",
      "\n",
      "  -0.14100\n",
      "   0.50000\n",
      "\n",
      "J =  125.46\n"
     ]
    },
    {
     "data": {
      "image/png": "[encoded data removed]",
      "text/plain": [
       "<IPython.core.display.Image object>"
      ]
     },
     "metadata": {},
     "output_type": "display_data"
    }
   ],
   "source": [
    "%% Minden egyben abraval egyutt\n",
    "t = [-20 -1 1 12];\n",
    "f = [-11 1 0 2];\n",
    "A = [1./t' ((sin((pi*t)/2)).^2)'];\n",
    "\n",
    "% A Gauss-fele normalegyenlet A^TAx=A^Tf megoldasa x = (A^TA)\\(A^Tf) \n",
    "x = (A'*A)\\(A'*f')\n",
    "\n",
    "%% Abrazolas\n",
    "tt = t(1):0.01:t(end); % idopontok finom felosztasa \n",
    "plot(t,f,'mo',tt,x(1)./tt+x(2)*(sin(pi*tt)/2).^2)\n",
    "legend('Adatok','Folyamatmodell')\n",
    "\n",
    "J = norm(A*x-f',2)^2"
   ]
  },
  {
   "cell_type": "markdown",
   "metadata": {},
   "source": [
    "<br>\n",
    "<b>5.feladat.</b> Tekintsük Debrecen városának havi középhőmérséklet adatait 1901-2019 között az Országos Meteorológiai Szolgálat honalpja alapján."
   ]
  },
  {
   "cell_type": "markdown",
   "metadata": {},
   "source": [
    "A <a href=\"https://www.met.hu/eghajlat/magyarorszag_eghajlata/eghajlati_adatsorok/Debrecen/adatok/havi_adatok/\">nyers adatok</a>."
   ]
  },
  {
   "cell_type": "markdown",
   "metadata": {},
   "source": [
    "Származtassuk az adatbázis alapján az adott hónapra a teljes időtartamra vonatkozó átlagos havi középhőmérsékletet. A mérési napok a teljes év során legyenek\n",
    "\n",
    "$$15,\\ 46,\\ 74,\\ 105,\\ 135,\\ 166,\\ 196,\\ 227,\\ 258,\\ 288,\\ 319,\\ 349.$$\n",
    "\n",
    "Az adatokra illesszük az alábbi\n",
    "\n",
    "$$F(t)=x_1+x_2\\cos\\left(2\\pi\\frac{t-14}{365}\\right)$$\n",
    "\n",
    "folyamatmodellt! Ábrázoljuk az adatokat és a folyamatmodell egy ábrán, valamint számítsuk ki a maradékvektor euklideszi hosszának négyzetét!"
   ]
  },
  {
   "cell_type": "code",
   "execution_count": 11,
   "metadata": {},
   "outputs": [
    {
     "name": "stdout",
     "output_type": "stream",
     "text": [
      "a = \n",
      "{\n",
      "  [1,1] = #datum;m_ta;m_tax;m_taxd;m_tan;m_tand\n",
      "  [2,1] = 1901-01;-7.6;1.8;1901-01-28;-18.6;1901-01-09\n",
      "  [3,1] = 1901-02;-4.3;2.9;1901-02-06;-11.2;1901-02-16\n",
      "  [4,1] = 1901-03;5.8;14.3;1901-03-20;-0.3;1901-03-01\n",
      "  [5,1] = 1901-04;10.3;19.2;1901-04-10;4.4;1901-04-19\n",
      "  [6,1] = 1901-05;16.1;22.5;1901-05-26;8.9;1901-05-05\n",
      "  [7,1] = 1901-06;20.4;26.0;1901-06-25;13.4;1901-06-17\n",
      "  [8,1] = 1901-07;22.0;28.0;1901-07-30;16.7;1901-07-10\n",
      "  [9,1] = 1901-08;19.7;25.8;1901-08-01;11.9;1901-08-30\n",
      "  [10,1] = 1901-09;14.8;19.7;1901-09-23;9.1;1901-09-08\n",
      "}\n"
     ]
    }
   ],
   "source": [
    "[a] = textread ('DE_M_ta.txt', \"%s \",10) % az elso 10 sor beolvasasa"
   ]
  },
  {
   "cell_type": "code",
   "execution_count": 12,
   "metadata": {},
   "outputs": [],
   "source": [
    "fid = fopen('DE_M_ta.txt', 'rt');\n",
    "tline = fgetl(fid);\n",
    "headers = strsplit(tline, ';');     %a cell array of strings\n",
    "datacell = textscan(fid, '%f', 'Delimiter',';', 'CollectOutput', 6);\n",
    "fclose(fid);\n",
    "datavalues = datacell{1};    %as a numeric array"
   ]
  },
  {
   "cell_type": "code",
   "execution_count": 13,
   "metadata": {},
   "outputs": [
    {
     "name": "stdout",
     "output_type": "stream",
     "text": [
      "ans =\n",
      "\n",
      " Columns 1 through 7:\n",
      "\n",
      "   -7.60000   -4.30000    5.80000   10.30000   16.10000   20.40000   22.00000\n",
      "\n",
      " Columns 8 through 13:\n",
      "\n",
      "   19.70000   14.80000   11.60000    3.10000    3.80000    0.70000\n",
      "\n"
     ]
    }
   ],
   "source": [
    "%% A megfelelo havi kozephomerseklet adatok 1901.januar es 2019.december kozott \n",
    "for j=1:1428\n",
    "    evi(j)=datavalues(3+(j-1)*11);\n",
    "end\n",
    "evi';\n",
    "evi(1:13)"
   ]
  },
  {
   "cell_type": "code",
   "execution_count": 14,
   "metadata": {},
   "outputs": [
    {
     "name": "stdout",
     "output_type": "stream",
     "text": [
      "ans =  119\n",
      "HEM =\n",
      "\n",
      " Columns 1 through 7:\n",
      "\n",
      "   -7.60000    0.70000   -2.10000   -3.10000   -7.40000   -2.90000   -5.20000\n",
      "   -4.30000    2.80000    2.10000    2.50000   -0.50000    1.00000   -5.20000\n",
      "    5.80000    3.70000    7.00000    4.80000    5.40000    4.90000   -0.10000\n",
      "   10.30000    8.70000    8.30000   10.20000    8.40000   11.60000    8.10000\n",
      "   16.10000   11.80000   15.00000   14.40000   15.40000   17.20000   17.90000\n",
      "   20.40000   18.30000   17.70000   18.80000   20.10000   19.10000   19.00000\n",
      "   22.00000   19.20000   20.00000   21.90000   22.10000   21.00000   19.30000\n",
      "   19.70000   20.20000   18.90000   20.20000   21.50000   19.00000   19.20000\n",
      "   14.80000   14.70000   16.00000   14.60000   16.40000   13.80000   14.30000\n",
      "   11.60000   10.00000   10.70000   10.40000    6.30000    8.80000   13.00000\n",
      "    3.10000   -1.10000    5.20000    1.80000    6.50000    6.90000    3.20000\n",
      "    3.80000   -7.20000    1.50000   -0.50000   -0.90000   -2.10000    0.90000\n",
      "\n",
      " Columns 8 through 14:\n",
      "\n",
      "   -4.20000   -3.90000   -0.10000   -0.70000   -6.00000   -3.10000   -7.50000\n",
      "   -0.30000   -5.30000    4.30000   -4.00000    1.70000   -1.90000   -2.80000\n",
      "    4.30000    4.80000    4.40000    4.50000    6.50000    6.50000    5.60000\n",
      "    8.90000   10.10000    9.90000    9.10000    7.70000   10.20000   11.10000\n",
      "   17.70000   14.90000   15.90000   16.20000   13.90000   14.00000   15.00000\n",
      "   19.80000   18.00000   20.10000   18.40000   19.60000   17.80000   17.90000\n",
      "   20.30000   19.40000   19.90000   21.60000   20.30000   17.60000   19.80000\n",
      "   17.60000   21.00000   19.70000   20.80000   17.80000   17.00000   18.70000\n",
      "   13.70000   16.20000   14.70000   15.00000   11.50000   14.90000   12.90000\n",
      "    7.50000   11.20000    9.10000    9.80000    7.40000    8.40000    8.60000\n",
      "   -2.00000    3.00000    3.50000    7.10000    1.90000    4.50000    2.20000\n",
      "   -2.40000    3.60000    3.10000    2.10000    0.60000    0.50000    2.50000\n",
      "\n",
      " Columns 15 through 21:\n",
      "\n",
      "    0.90000    0.20000   -1.00000    0.80000    2.00000    0.20000    2.50000\n",
      "    0.20000   -0.60000   -6.30000   -0.40000    0.60000   -1.20000   -0.50000\n",
      "    1.60000    8.00000    3.00000    4.40000    5.20000    6.40000    5.70000\n",
      "    8.90000    9.80000    8.80000   13.10000    9.90000   14.50000   10.50000\n",
      "   15.40000   14.90000   15.00000   15.40000   10.50000   16.50000   16.80000\n",
      "   19.40000   18.10000   20.20000   16.40000   17.80000   16.80000   16.80000\n",
      "   19.50000   19.40000   20.70000   19.70000   18.90000   20.70000   20.70000\n",
      "   17.20000   18.80000   20.80000   19.20000   18.30000   18.50000   20.70000\n",
      "   11.70000   14.30000   15.90000   16.50000   16.80000   15.10000   13.50000\n",
      "    8.80000    9.40000   10.90000   11.00000    9.00000    5.50000    8.30000\n",
      "    1.50000    6.00000    5.50000    2.10000    3.40000   -0.40000    1.20000\n",
      "    4.00000    3.60000   -2.00000   -0.20000   -0.50000    1.60000   -1.20000\n",
      "\n",
      " Columns 22 through 28:\n",
      "\n",
      "   -5.10000   -0.50000   -7.00000   -0.90000   -0.70000    0.50000   -2.80000\n",
      "   -5.90000    0.30000   -1.80000    4.70000    3.30000   -1.00000   -1.00000\n",
      "    4.90000    5.40000    3.50000    3.80000    3.80000    7.70000    2.70000\n",
      "    9.00000    9.00000    8.80000   10.00000   11.80000   10.00000   10.80000\n",
      "   15.40000   17.60000   18.40000   16.80000   15.50000   14.10000   13.10000\n",
      "   18.80000   16.30000   19.60000   16.60000   18.00000   19.80000   17.30000\n",
      "   20.40000   20.60000   19.90000   20.00000   20.30000   21.10000   22.40000\n",
      "   19.50000   19.20000   18.60000   19.10000   17.50000   20.60000   19.60000\n",
      "   14.10000   15.80000   17.10000   14.00000   15.30000   16.90000   15.60000\n",
      "    8.20000   12.60000    9.60000    9.40000   10.90000    9.10000    8.90000\n",
      "    0.50000    7.10000    1.20000    5.30000    9.90000    5.20000    6.00000\n",
      "   -1.20000   -0.40000   -0.90000   -3.70000   -0.00000   -4.20000   -1.10000\n",
      "\n",
      " Columns 29 through 35:\n",
      "\n",
      "   -5.10000   -1.00000   -1.00000   -4.00000   -3.70000   -3.70000   -4.60000\n",
      "   -8.20000    0.00000    0.90000   -7.80000    0.20000   -1.10000   -2.30000\n",
      "    0.20000    6.10000    0.70000    0.00000    5.00000    8.80000    3.50000\n",
      "    6.60000   11.50000    7.60000   10.30000    6.80000   14.00000   10.70000\n",
      "   17.50000   14.70000   18.10000   16.60000   14.40000   18.00000   14.30000\n",
      "   17.90000   19.80000   20.00000   17.90000   16.20000   18.80000   20.60000\n",
      "   20.00000   20.50000   22.40000   23.10000   20.40000   20.70000   20.60000\n",
      "   21.50000   19.30000   20.30000   20.90000   18.80000   20.90000   20.50000\n",
      "   14.60000   17.10000   12.20000   18.70000   13.70000   16.50000   15.90000\n",
      "   11.90000   10.10000    8.60000   12.40000   10.80000   10.40000   13.40000\n",
      "    6.80000    6.60000    2.90000    3.00000    5.40000    6.70000    3.60000\n",
      "    1.60000    0.50000   -2.60000   -0.10000   -6.60000    3.80000    1.90000\n",
      "\n",
      " Columns 36 through 42:\n",
      "\n",
      "    4.00000   -4.50000   -2.70000    1.20000   -9.50000   -3.20000  -10.20000\n",
      "    1.10000    1.30000    0.40000    1.80000   -7.50000    2.30000   -3.50000\n",
      "    8.00000    8.20000    6.00000    2.10000    0.50000    4.80000    1.70000\n",
      "   10.50000   10.10000    7.90000   12.60000   10.30000    9.50000    8.50000\n",
      "   17.40000   18.70000   14.60000   15.60000   14.30000   13.40000   15.40000\n",
      "   18.20000   21.00000   20.90000   19.70000   18.20000   17.60000   18.90000\n",
      "   23.20000   20.60000   21.60000   22.00000   19.80000   19.80000   20.20000\n",
      "   18.20000   19.60000   20.00000   20.50000   16.90000   18.60000   20.40000\n",
      "   14.20000   17.70000   15.10000   14.80000   15.30000   12.50000   18.80000\n",
      "    6.60000   10.10000   11.60000   10.10000    9.80000    8.30000   10.50000\n",
      "    4.30000    5.20000    6.60000    4.90000    7.70000    1.80000    2.60000\n",
      "   -0.30000    0.80000   -0.90000   -0.40000   -5.50000   -0.70000    1.10000\n",
      "\n",
      " Columns 43 through 49:\n",
      "\n",
      "   -6.40000   -0.60000   -3.30000   -5.00000   -8.60000    3.40000   -0.30000\n",
      "    1.40000   -0.70000    0.50000    0.50000   -2.20000   -0.30000   -0.40000\n",
      "    4.70000    1.80000    5.00000    6.40000    6.60000    5.30000    2.20000\n",
      "   11.30000   10.10000   11.20000   13.50000   12.90000   13.20000   11.40000\n",
      "   13.60000   13.90000   17.40000   18.90000   17.30000   17.20000   17.10000\n",
      "   17.60000   18.70000   19.70000   21.50000   20.50000   18.20000   16.70000\n",
      "   20.30000   19.90000   21.20000   22.80000   22.00000   19.00000   19.70000\n",
      "   22.70000   21.30000   20.00000   22.70000   19.60000   20.10000   18.70000\n",
      "   17.50000   17.00000   15.20000   17.60000   17.70000   15.60000   15.80000\n",
      "   11.20000   13.40000    9.40000    5.60000    7.90000   10.90000   10.30000\n",
      "    4.30000    5.00000    4.70000    5.90000    5.60000    2.10000    7.40000\n",
      "   -0.10000    0.40000    0.90000   -0.90000    1.20000   -4.70000    2.30000\n",
      "\n",
      " Columns 50 through 56:\n",
      "\n",
      "   -5.00000    1.80000    0.10000    0.10000   -8.20000   -2.10000    0.80000\n",
      "    0.60000    3.90000   -0.60000   -0.20000   -6.30000    1.50000   -8.40000\n",
      "    5.60000    6.00000    1.00000    4.50000    6.60000    3.50000    1.80000\n",
      "   12.00000   11.30000   13.60000   11.80000    7.40000    7.40000   10.50000\n",
      "   17.70000   15.70000   14.40000   14.70000   15.90000   14.80000   15.20000\n",
      "   20.10000   20.00000   19.20000   20.20000   20.80000   18.30000   18.80000\n",
      "   22.50000   21.10000   22.80000   22.40000   19.70000   20.40000   20.90000\n",
      "   20.50000   21.80000   23.70000   19.40000   20.70000   19.70000   20.90000\n",
      "   16.10000   18.20000   15.80000   17.00000   18.20000   16.90000   16.80000\n",
      "    8.10000    9.40000   10.20000   12.00000    9.70000   11.60000   10.00000\n",
      "    5.60000    7.40000    4.80000    2.80000    4.20000    4.60000    0.50000\n",
      "    3.50000    0.20000    1.60000   -1.20000    2.70000    2.10000   -0.30000\n",
      "\n",
      " Columns 57 through 63:\n",
      "\n",
      "   -3.30000   -2.30000   -0.60000   -2.40000   -2.70000   -0.60000   -7.90000\n",
      "    3.20000    2.60000   -1.90000   -0.50000    0.80000   -1.30000   -4.10000\n",
      "    6.10000    1.20000    7.60000    6.40000    6.80000    1.40000    2.20000\n",
      "   11.90000    7.80000   10.90000   10.30000   13.60000   12.60000   11.90000\n",
      "   13.20000   19.40000   15.80000   14.80000   14.10000   15.20000   17.50000\n",
      "   20.80000   18.10000   18.70000   19.30000   19.90000   17.10000   19.50000\n"
     ]
    },
    {
     "name": "stdout",
     "output_type": "stream",
     "text": [
      "   21.80000   21.70000   22.60000   19.40000   19.70000   18.80000   22.50000\n",
      "   20.20000   20.50000   20.20000   19.50000   19.80000   22.00000   21.40000\n",
      "   15.90000   16.20000   14.20000   14.30000   17.40000   15.40000   17.40000\n",
      "   10.40000   10.80000    9.30000   12.10000   12.70000   10.50000    9.80000\n",
      "    6.00000    6.00000    5.20000    7.40000    6.40000    7.00000    8.80000\n",
      "   -0.40000    3.10000    4.20000    4.50000   -1.10000   -3.20000   -4.60000\n",
      "\n",
      " Columns 64 through 70:\n",
      "\n",
      "  -10.00000   -0.50000   -4.50000   -4.20000   -3.80000   -4.70000   -1.00000\n",
      "   -3.00000   -4.70000    4.70000   -0.50000    2.60000    0.20000   -0.80000\n",
      "    2.20000    4.90000    4.80000    6.40000    5.20000    3.20000    4.20000\n",
      "   11.00000    9.00000   12.60000   10.30000   12.80000    9.40000   10.30000\n",
      "   14.60000   13.90000   15.50000   16.00000   16.90000   17.70000   13.90000\n",
      "   22.50000   18.40000   18.30000   18.60000   20.60000   17.90000   18.90000\n",
      "   21.30000   19.60000   20.10000   22.30000   20.10000   20.30000   20.50000\n",
      "   18.70000   17.60000   19.30000   20.10000   18.80000   19.20000   19.70000\n",
      "   15.60000   16.70000   15.00000   17.80000   16.00000   15.90000   14.60000\n",
      "   10.90000    9.00000   14.70000   12.10000   10.20000   10.10000    8.60000\n",
      "    5.90000    2.50000    5.10000    5.00000    6.80000    7.60000    7.00000\n",
      "   -0.00000    1.50000    0.70000   -1.00000   -1.90000   -2.20000    0.70000\n",
      "\n",
      " Columns 71 through 77:\n",
      "\n",
      "   -1.40000   -1.60000   -1.30000   -1.00000    1.00000   -1.70000   -0.90000\n",
      "    1.70000    3.60000    1.80000    5.00000   -0.50000   -2.30000    4.10000\n",
      "    2.80000    7.40000    4.90000    8.20000    8.20000    1.90000    7.80000\n",
      "   11.00000   12.20000    9.70000    9.90000   10.20000   11.20000    9.00000\n",
      "   17.90000   15.90000   16.20000   13.90000   17.40000   15.30000   16.10000\n",
      "   17.90000   19.80000   18.50000   16.60000   19.20000   18.20000   19.20000\n",
      "   20.30000   22.40000   20.00000   19.00000   20.70000   21.00000   19.80000\n",
      "   21.50000   19.30000   20.20000   21.50000   19.90000   17.50000   18.60000\n",
      "   13.50000   13.10000   17.20000   16.70000   17.90000   15.10000   13.60000\n",
      "    8.40000    8.20000    9.40000    7.90000   10.40000   11.10000   10.80000\n",
      "    3.70000    4.40000    1.60000    4.50000    2.50000    6.50000    4.60000\n",
      "    1.70000    0.60000   -1.60000    1.60000   -0.80000    0.30000   -3.20000\n",
      "\n",
      " Columns 78 through 84:\n",
      "\n",
      "   -1.20000   -3.20000   -4.30000   -4.20000   -6.30000    1.70000   -0.30000\n",
      "   -0.30000    1.30000    0.60000   -0.20000   -3.00000   -0.30000    0.70000\n",
      "    6.20000    6.80000    4.10000    7.50000    5.00000    6.50000    4.40000\n",
      "    9.80000    9.30000    8.70000    9.30000    7.80000   12.20000   10.90000\n",
      "   13.60000   17.00000   13.20000   15.60000   16.70000   17.50000   15.40000\n",
      "   17.80000   21.70000   17.60000   20.10000   19.10000   18.60000   17.20000\n",
      "   18.40000   17.90000   18.50000   19.80000   20.40000   21.90000   18.20000\n",
      "   17.80000   18.50000   18.90000   19.00000   20.30000   20.30000   19.40000\n",
      "   13.70000   16.70000   14.50000   16.60000   18.70000   15.90000   16.10000\n",
      "   10.40000    8.60000   11.00000   11.70000   11.50000    9.40000   11.90000\n",
      "    1.70000    5.20000    3.10000    3.20000    4.50000    0.80000    4.90000\n",
      "    0.70000    3.00000   -1.00000    0.00000    3.20000   -0.60000   -1.80000\n",
      "\n",
      " Columns 85 through 91:\n",
      "\n",
      "   -6.60000   -0.40000   -5.80000    2.20000   -1.90000   -0.80000   -0.50000\n",
      "   -8.10000   -2.50000    0.20000    2.40000    2.80000    4.20000   -2.60000\n",
      "    4.40000    4.60000    0.10000    4.10000    7.50000    8.50000    7.20000\n",
      "   10.50000   12.70000   10.40000    9.90000   12.90000   10.70000    9.50000\n",
      "   16.60000   17.80000   14.30000   16.20000   15.40000   16.10000   12.70000\n",
      "   16.10000   19.20000   19.40000   17.90000   17.10000   18.30000   19.10000\n",
      "   20.20000   20.00000   22.70000   22.10000   20.80000   20.10000   22.20000\n",
      "   20.40000   21.40000   17.60000   20.00000   19.70000   20.40000   19.40000\n",
      "   14.80000   15.90000   17.50000   15.40000   16.10000   13.70000   16.30000\n",
      "    9.60000    9.60000   11.00000    9.50000   10.60000   10.20000    9.50000\n",
      "    3.70000    4.20000    5.20000   -1.30000    3.60000    5.60000    5.70000\n",
      "    2.90000   -2.30000    0.40000    0.00000    0.50000    0.40000   -4.20000\n",
      "\n",
      " Columns 92 through 98:\n",
      "\n",
      "   -2.20000   -1.60000    2.40000   -1.80000   -1.90000   -2.00000    2.70000\n",
      "    0.70000   -3.30000    1.60000    4.60000   -3.10000    1.10000    3.90000\n",
      "    5.30000    3.00000    7.30000    5.50000    1.50000    4.90000    3.90000\n",
      "   11.50000   10.10000   11.50000   10.00000   12.50000    7.80000   12.80000\n",
      "   15.90000   18.80000   15.70000   15.30000   18.50000   17.20000   15.80000\n",
      "   20.00000   19.40000   19.30000   18.80000   20.80000   20.00000   19.90000\n",
      "   21.80000   19.30000   23.10000   23.40000   20.10000   20.10000   20.60000\n",
      "   24.90000   20.30000   21.60000   20.80000   20.90000   21.20000   20.40000\n",
      "   15.50000   14.70000   19.40000   15.40000   13.40000   15.90000   15.10000\n",
      "    9.80000   11.90000    9.30000   11.80000   11.40000    8.50000   10.80000\n",
      "    4.90000    1.90000    4.30000    2.20000    7.90000    6.70000    2.60000\n",
      "   -1.10000    2.70000    0.40000    0.40000   -1.10000    2.30000   -5.50000\n",
      "\n",
      " Columns 99 through 105:\n",
      "\n",
      "   -1.30000   -3.50000    0.60000   -1.30000   -3.30000   -3.00000   -0.90000\n",
      "   -1.50000    2.20000    2.30000    4.20000   -5.80000    0.30000   -3.70000\n",
      "    6.40000    5.00000    7.60000    7.20000    3.60000    5.60000    2.70000\n",
      "   12.00000   14.10000   10.80000   11.30000   10.00000   11.90000   11.30000\n",
      "   15.40000   17.90000   17.70000   18.90000   19.70000   14.70000   16.70000\n",
      "   20.40000   20.60000   17.60000   20.40000   21.70000   19.00000   18.80000\n",
      "   22.40000   20.00000   21.30000   23.00000   21.70000   20.90000   21.00000\n",
      "   20.00000   22.50000   21.90000   21.10000   22.90000   20.50000   19.80000\n",
      "   18.50000   15.00000   14.40000   15.30000   15.70000   15.10000   16.90000\n",
      "   10.60000   13.20000   12.70000    9.90000    8.20000   11.80000   10.70000\n",
      "    3.50000    8.50000    2.00000    6.60000    6.80000    5.10000    3.70000\n",
      "    0.30000    2.20000   -5.30000   -1.80000   -0.10000    1.00000    0.10000\n",
      "\n",
      " Columns 106 through 112:\n",
      "\n",
      "   -3.30000    3.60000    1.10000   -1.60000   -1.70000   -0.60000    0.20000\n",
      "   -1.30000    4.10000    3.20000    0.50000    1.10000   -1.90000   -5.30000\n",
      "    3.40000    9.00000    6.60000    5.50000    5.90000    5.90000    6.90000\n",
      "   12.10000   12.50000   11.60000   14.70000   11.60000   12.70000   12.20000\n",
      "   15.60000   18.20000   17.00000   17.20000   16.30000   16.70000   17.00000\n",
      "   19.40000   22.10000   20.70000   19.30000   19.70000   20.60000   21.20000\n",
      "   23.10000   23.00000   20.80000   22.80000   22.50000   20.70000   23.90000\n",
      "   19.00000   22.50000   21.50000   22.20000   21.20000   22.10000   23.10000\n",
      "   17.50000   14.60000   15.50000   18.70000   14.90000   19.10000   18.80000\n",
      "   12.00000   10.40000   11.90000   10.80000    7.90000    9.70000   11.40000\n",
      "    6.30000    3.70000    6.50000    7.30000    8.10000    1.80000    7.00000\n",
      "    2.00000   -0.40000    2.80000    1.90000   -1.00000    2.30000   -0.90000\n",
      "\n",
      " Columns 113 through 119:\n",
      "\n",
      "   -0.50000    2.40000    1.20000   -1.80000   -6.20000    2.40000   -1.40000\n",
      "    2.90000    3.90000    1.90000    5.90000    1.70000    0.30000    3.30000\n",
      "    3.60000    9.20000    6.70000    6.80000    8.80000    3.30000    8.60000\n",
      "   12.40000   12.90000   10.80000   13.00000   10.40000   16.10000   13.00000\n",
      "   17.00000   16.10000   16.50000   16.40000   16.90000   19.80000   14.50000\n",
      "   20.20000   20.20000   20.70000   20.80000   21.60000   20.90000   23.30000\n",
      "   22.10000   22.10000   23.60000   21.70000   21.90000   22.40000   21.50000\n",
      "   22.50000   20.70000   24.20000   20.60000   23.20000   24.00000   23.40000\n",
      "   14.50000   17.30000   18.40000   17.90000   16.20000   18.10000   17.30000\n",
      "   12.40000   11.80000   10.60000    9.50000   10.80000   13.20000   12.70000\n",
      "    7.90000    6.90000    5.80000    4.40000    5.50000    7.00000    9.50000\n",
      "    0.70000    2.70000    2.60000   -2.20000    2.70000    0.60000    3.40000\n",
      "\n"
     ]
    }
   ],
   "source": [
    "1428/12\n",
    "HEM = reshape(evi,12,119) %HEM=HaviEvesMatrix\n",
    "                          %Sor az aktualis honap, az oszlop az aktualis ev"
   ]
  },
  {
   "cell_type": "code",
   "execution_count": 15,
   "metadata": {},
   "outputs": [
    {
     "name": "stdout",
     "output_type": "stream",
     "text": [
      "error: 'label' undefined near line 1 column 1\n"
     ]
    },
    {
     "data": {
      "image/png": "[encoded data removed]",
      "text/plain": [
       "<IPython.core.display.Image object>"
      ]
     },
     "metadata": {},
     "output_type": "display_data"
    }
   ],
   "source": [
    "plot(1901:2019,HEM(2,:))\n",
    "title('Debreceni havi kozephomerseklet az aktualis honapban')\n",
    "xlabel('Evek')\n",
    "label('Homerseklet')"
   ]
  },
  {
   "cell_type": "code",
   "execution_count": 16,
   "metadata": {},
   "outputs": [
    {
     "data": {
      "image/png": "[encoded data removed]",
      "text/plain": [
       "<IPython.core.display.Image object>"
      ]
     },
     "metadata": {},
     "output_type": "display_data"
    }
   ],
   "source": [
    "t = [15 46 74 105 135 166 196 227 258 288 319 349]; % Az OMSZ adatbazisban nem volt, ezert havi \n",
    "% kozepso ertekeket adtunk meg a mereshez\n",
    "f = (sum(HEM,2)/119);\n",
    "f = f';\n",
    "\n",
    "%% A modell F(t) = x_1 + x_2cos(2*pi(t-14)/365)\n",
    "\n",
    "A = [ones(length(t),1) cos(2*pi*((t-14)/365))'];\n",
    "\n",
    "% A Gauss-fele normalegyenlet A^TAx=A^Tf megoldasa x = (A^TA)\\(A^Tf) \n",
    "x = (A'*A)\\(A'*f');\n",
    "\n",
    "%% Abrazolas\n",
    "tt = t(1):0.01:t(end); % idopontok finom felosztasa \n",
    "%plot(t,f,'mo',tt,x_linreg(1)+x_linreg(2)*tt,tt,x_parabola(1)+x_parabola(2)*tt+x_parabola(3)*tt.^2)\n",
    "\n",
    "%% polyval es a flip paraccsal minden kompaktul\n",
    "plot(t,f,'mo',tt,x(1)+x(2)*cos(2*pi*(tt-14)/365))\n",
    "legend('Adatok','A modellunk')\n",
    "title('Debrecen varosnak havi kozephomersekletere illesztett modell 1901-2019 kozott')\n",
    "xlabel('Napok')\n",
    "ylabel('Homerseklet')"
   ]
  },
  {
   "cell_type": "code",
   "execution_count": 17,
   "metadata": {},
   "outputs": [
    {
     "name": "stdout",
     "output_type": "stream",
     "text": [
      "J =  3.4028\n"
     ]
    }
   ],
   "source": [
    "J = norm(A*x-f',2)^2"
   ]
  },
  {
   "cell_type": "code",
   "execution_count": null,
   "metadata": {},
   "outputs": [],
   "source": []
  }
 ],
 "metadata": {
  "kernelspec": {
   "display_name": "Octave",
   "language": "octave",
   "name": "octave"
  },
  "language_info": {
   "file_extension": ".m",
   "help_links": [
    {
     "text": "GNU Octave",
     "url": "https://www.gnu.org/software/octave/support.html"
    },
    {
     "text": "Octave Kernel",
     "url": "https://github.com/Calysto/octave_kernel"
    },
    {
     "text": "MetaKernel Magics",
     "url": "https://github.com/calysto/metakernel/blob/master/metakernel/magics/README.md"
    }
   ],
   "mimetype": "text/x-octave",
   "name": "octave",
   "version": "4.2.2"
  }
 },
 "nbformat": 4,
 "nbformat_minor": 2
}
