{
 "cells": [
  {
   "cell_type": "markdown",
   "metadata": {},
   "source": [
    "## <center>5. Feladatsor</center>"
   ]
  },
  {
   "cell_type": "markdown",
   "metadata": {},
   "source": [
    "### <center>Gauss-féle normálegyenletek</center>"
   ]
  },
  {
   "cell_type": "markdown",
   "metadata": {},
   "source": [
    "<b>1.feladat.</b> Adjuk meg a megadott $(t_i, f_i)$ "
   ]
  },
  {
   "cell_type": "markdown",
   "metadata": {},
   "source": [
    "\n",
    "  <tr>\n",
    "<td>t_i | -2 | -1 | 1 | 2 </td>\n",
    "  </tr>\n",
    "  <br>\n",
    "  <tr>\n",
    "    <td>f_i | 3 | 1 | 0 | 2   </td>\n",
    "  </tr>"
   ]
  },
  {
   "cell_type": "markdown",
   "metadata": {},
   "source": [
    "pontokat négyzetesen legjobban közelítő\n",
    "<br>\n",
    "\n",
    "+ egyenest (lineáris regresszió): $F(t)=x_1+x_2t$\n",
    "+ parabolát: $F(t)=x_1+x_2t+x_3t^2$\n",
    "\n",
    "<br>\n",
    "a Gauss-féle normálegyenlet segítségével! Az adatokat, a közelítő egyenest és parabolát egy ábrán címkézve ábrzázoljuk! Továbbá számítsuk ki a maradékvektor euklideszi hosszának négyzetét, azaz a $J(x)=||Ax-f||_2^2$ értéket!<br>"
   ]
  },
  {
   "cell_type": "code",
   "execution_count": null,
   "metadata": {},
   "outputs": [],
   "source": []
  },
  {
   "cell_type": "code",
   "execution_count": null,
   "metadata": {},
   "outputs": [],
   "source": []
  },
  {
   "cell_type": "code",
   "execution_count": null,
   "metadata": {},
   "outputs": [],
   "source": []
  },
  {
   "cell_type": "code",
   "execution_count": 4,
   "metadata": {},
   "outputs": [
    {
     "data": {
      "image/png": "[encoded data removed]",
      "text/plain": [
       "<IPython.core.display.Image object>"
      ]
     },
     "metadata": {},
     "output_type": "display_data"
    }
   ],
   "source": []
  },
  {
   "cell_type": "code",
   "execution_count": 5,
   "metadata": {},
   "outputs": [
    {
     "name": "stdout",
     "output_type": "stream",
     "text": [
      "J_linreg =  4.1000\n",
      "J_parabola =  0.10000\n"
     ]
    }
   ],
   "source": []
  },
  {
   "cell_type": "markdown",
   "metadata": {},
   "source": [
    "<br>\n",
    "<b>2.feladat.</b> Írjunk programot <i>legkisebbnegyzetek.m</i> néven, amely megadja a megadott $(t_i, f_i)$ pontokat négyzetesen legjobban közelítõ $n$-edfokú polinom együtthatóit a Gauss-féle normálegyenlet segítségével és kiszámítja a maradékvektor euklideszi hosszának négyzetét!\n",
    "\n",
    "<br> Alkalmazzuk a programunkat az előző feladatra!"
   ]
  },
  {
   "cell_type": "code",
   "execution_count": null,
   "metadata": {},
   "outputs": [],
   "source": []
  },
  {
   "cell_type": "code",
   "execution_count": null,
   "metadata": {},
   "outputs": [],
   "source": []
  },
  {
   "cell_type": "markdown",
   "metadata": {},
   "source": [
    "<br>\n",
    "<b>3.feladat.</b> Beépített függvények segítségével írjunk egy általános eljárást, mely ábrázolja a közelítő polinomot az adatokkal együtt. Alkalmazzuk ezt az <b>1.feladat.</b> adataira!"
   ]
  },
  {
   "cell_type": "code",
   "execution_count": null,
   "metadata": {},
   "outputs": [],
   "source": []
  },
  {
   "cell_type": "code",
   "execution_count": null,
   "metadata": {},
   "outputs": [],
   "source": []
  },
  {
   "cell_type": "markdown",
   "metadata": {},
   "source": [
    "<br>\n",
    "<b>4.feladat.</b> Adjuk meg a megadott $(t_i,f_i)$"
   ]
  },
  {
   "cell_type": "markdown",
   "metadata": {},
   "source": [
    "  <tr>\n",
    "<td>t_i | -20 | -1 | 1 | 12 </td>\n",
    "  </tr>\n",
    "  <br>\n",
    "  <tr>\n",
    "    <td>f_i | -11 | 1 | 0 | 2   </td>\n",
    "  </tr>"
   ]
  },
  {
   "cell_type": "markdown",
   "metadata": {},
   "source": [
    "pontokat négyzetesen legjobban közelítő\n",
    "<br>\n",
    "\n",
    "$$F(t)=\\frac{x_1}{t}+x_2\\sin^2\\left(\\frac{\\pi t}{2}\\right)$$\n",
    "\n",
    "<br>\n",
    "a Gauss-féle normálegyenlet segítségével! Az adatokat és a folyamatmodellt egy ábrán címkézve ábrzázoljuk! Számítsuk ki a maradékvektor euklideszi hosszának négyzetét!<br>"
   ]
  },
  {
   "cell_type": "code",
   "execution_count": 10,
   "metadata": {},
   "outputs": [
    {
     "name": "stdout",
     "output_type": "stream",
     "text": [
      "x =\n",
      "\n",
      "  -0.14100\n",
      "   0.50000\n",
      "\n",
      "J =  125.46\n"
     ]
    },
    {
     "data": {
      "image/png": "[encoded data removed]",
      "text/plain": [
       "<IPython.core.display.Image object>"
      ]
     },
     "metadata": {},
     "output_type": "display_data"
    }
   ],
   "source": []
  },
  {
   "cell_type": "markdown",
   "metadata": {},
   "source": [
    "<br>\n",
    "<b>5.feladat.</b> Tekintsük Debrecen városának havi középhőmérséklet adatait 1901-2019 között az Országos Meteorológiai Szolgálat honalpja alapján."
   ]
  },
  {
   "cell_type": "markdown",
   "metadata": {},
   "source": [
    "A <a href=\"https://www.met.hu/eghajlat/magyarorszag_eghajlata/eghajlati_adatsorok/Debrecen/adatok/havi_adatok/\">nyers adatok</a>."
   ]
  },
  {
   "cell_type": "markdown",
   "metadata": {},
   "source": [
    "Származtassuk az adatbázis alapján az adott hónapra a teljes időtartamra vonatkozó átlagos havi középhőmérsékletet. A mérési napok a teljes év során legyenek\n",
    "\n",
    "$$15,\\ 46,\\ 74,\\ 105,\\ 135,\\ 166,\\ 196,\\ 227,\\ 258,\\ 288,\\ 319,\\ 349.$$\n",
    "\n",
    "Az adatokra illesszük az alábbi\n",
    "\n",
    "$$F(t)=x_1+x_2\\cos\\left(2\\pi\\frac{t-14}{365}\\right)$$\n",
    "\n",
    "folyamatmodellt! Ábrázoljuk az adatokat és a folyamatmodell egy ábrán, valamint számítsuk ki a maradékvektor euklideszi hosszának négyzetét!"
   ]
  },
  {
   "cell_type": "code",
   "execution_count": 11,
   "metadata": {},
   "outputs": [
    {
     "name": "stdout",
     "output_type": "stream",
     "text": [
      "a = \n",
      "{\n",
      "  [1,1] = #datum;m_ta;m_tax;m_taxd;m_tan;m_tand\n",
      "  [2,1] = 1901-01;-7.6;1.8;1901-01-28;-18.6;1901-01-09\n",
      "  [3,1] = 1901-02;-4.3;2.9;1901-02-06;-11.2;1901-02-16\n",
      "  [4,1] = 1901-03;5.8;14.3;1901-03-20;-0.3;1901-03-01\n",
      "  [5,1] = 1901-04;10.3;19.2;1901-04-10;4.4;1901-04-19\n",
      "  [6,1] = 1901-05;16.1;22.5;1901-05-26;8.9;1901-05-05\n",
      "  [7,1] = 1901-06;20.4;26.0;1901-06-25;13.4;1901-06-17\n",
      "  [8,1] = 1901-07;22.0;28.0;1901-07-30;16.7;1901-07-10\n",
      "  [9,1] = 1901-08;19.7;25.8;1901-08-01;11.9;1901-08-30\n",
      "  [10,1] = 1901-09;14.8;19.7;1901-09-23;9.1;1901-09-08\n",
      "}\n"
     ]
    }
   ],
   "source": [
    "% az elso 10 sor beolvasasa"
   ]
  },
  {
   "cell_type": "code",
   "execution_count": 12,
   "metadata": {},
   "outputs": [],
   "source": []
  },
  {
   "cell_type": "code",
   "execution_count": null,
   "metadata": {},
   "outputs": [],
   "source": []
  },
  {
   "cell_type": "code",
   "execution_count": null,
   "metadata": {},
   "outputs": [],
   "source": []
  },
  {
   "cell_type": "code",
   "execution_count": 15,
   "metadata": {},
   "outputs": [
    {
     "name": "stdout",
     "output_type": "stream",
     "text": [
      "error: 'label' undefined near line 1 column 1\n"
     ]
    },
    {
     "data": {
      "image/png": "[encoded data removed]",
      "text/plain": [
       "<IPython.core.display.Image object>"
      ]
     },
     "metadata": {},
     "output_type": "display_data"
    }
   ],
   "source": [
    "plot(1901:2019,HEM(2,:))\n",
    "title('Debreceni havi kozephomerseklet az aktualis honapban')\n",
    "xlabel('Evek')\n",
    "label('Homerseklet')"
   ]
  },
  {
   "cell_type": "code",
   "execution_count": 16,
   "metadata": {},
   "outputs": [
    {
     "data": {
      "image/png": "[encoded data removed]",
      "text/plain": [
       "<IPython.core.display.Image object>"
      ]
     },
     "metadata": {},
     "output_type": "display_data"
    }
   ],
   "source": []
  },
  {
   "cell_type": "code",
   "execution_count": 17,
   "metadata": {},
   "outputs": [
    {
     "name": "stdout",
     "output_type": "stream",
     "text": [
      "J =  3.4028\n"
     ]
    }
   ],
   "source": []
  },
  {
   "cell_type": "code",
   "execution_count": null,
   "metadata": {},
   "outputs": [],
   "source": []
  }
 ],
 "metadata": {
  "kernelspec": {
   "display_name": "Octave",
   "language": "octave",
   "name": "octave"
  },
  "language_info": {
   "file_extension": ".m",
   "help_links": [
    {
     "text": "GNU Octave",
     "url": "https://www.gnu.org/software/octave/support.html"
    },
    {
     "text": "Octave Kernel",
     "url": "https://github.com/Calysto/octave_kernel"
    },
    {
     "text": "MetaKernel Magics",
     "url": "https://github.com/calysto/metakernel/blob/master/metakernel/magics/README.md"
    }
   ],
   "mimetype": "text/x-octave",
   "name": "octave",
   "version": "4.2.2"
  }
 },
 "nbformat": 4,
 "nbformat_minor": 2
}
