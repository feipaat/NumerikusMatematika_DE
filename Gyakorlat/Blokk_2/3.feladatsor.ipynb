{
 "cells": [
  {
   "cell_type": "markdown",
   "metadata": {},
   "source": [
    "## <center>3. Feladatsor</center>"
   ]
  },
  {
   "cell_type": "markdown",
   "metadata": {},
   "source": [
    "### <center>Lineár algebrai egyenletrendszer megoldhatósági tételköre</center>"
   ]
  },
  {
   "cell_type": "markdown",
   "metadata": {},
   "source": [
    "<b>1.feladat.</b> Írjunk programot <i>nullasajatertek.m</i> néven, amely eldönti egy adott négyzetes mátrixról, hogy a nulla sajátértéke-e vagy sem, azaz hogy az $A$ mátrix invertálható-e vagy sem!"
   ]
  },
  {
   "cell_type": "code",
   "execution_count": 1,
   "metadata": {},
   "outputs": [
    {
     "name": "stdout",
     "output_type": "stream",
     "text": [
      "A =\n",
      "\n",
      "   1   2   3\n",
      "   4   5   6\n",
      "   7   8   9\n",
      "\n",
      "ans =\n",
      "\n",
      "   1.6117e+01\n",
      "  -1.1168e+00\n",
      "  -3.7331e-16\n",
      "\n",
      "v =\n",
      "\n",
      "  1\n",
      "  1\n",
      "  0\n",
      "\n",
      "ans = 0\n"
     ]
    }
   ],
   "source": [
    "% Nulla s.é. vagy sem\n",
    "%A=[1 2 6; 4 5 6; 7 8 9];\n",
    "A=[1 2 3; 4 5 6; 7 8 9]\n",
    "eig(A)\n",
    "v=abs(eig(A)) >= 1e-14%s.é.-kek nagyobbak-e mint 0 1:igen; 0:nem\n",
    "sum(abs(v));\n",
    "sum(abs(v)) == size(A,2) % 1:igen; invható; 0:nem invható"
   ]
  },
  {
   "cell_type": "code",
   "execution_count": 4,
   "metadata": {},
   "outputs": [
    {
     "name": "stdout",
     "output_type": "stream",
     "text": [
      "Az A matrix nem invertalhato\r\n"
     ]
    }
   ],
   "source": [
    "A=[1 2 3; 4 5 6; 7 8 9];\n",
    "nullasajatertek(A)"
   ]
  },
  {
   "cell_type": "markdown",
   "metadata": {},
   "source": [
    "<br>\n",
    "<b>2.feladat.</b> Írjunk programot <i>sarokdeterminans.m</i> néven, mely egy adott négyzetes mátrixra kiszámolja a sarokdeterminánsait!"
   ]
  },
  {
   "cell_type": "code",
   "execution_count": 7,
   "metadata": {},
   "outputs": [
    {
     "name": "stdout",
     "output_type": "stream",
     "text": [
      "v =\n",
      "\n",
      "   1.0000e+00  -3.0000e+00   6.6613e-16\n",
      "\n"
     ]
    }
   ],
   "source": [
    "A=[1 2 3; 4 5 6; 7 8 9];\n",
    "%A=[1 1; 2 2]\n",
    "for j=1:length(A)\n",
    "    v(j)=det(A(1:j,1:j)); % bal felső sarokdetermináns\n",
    "end\n",
    "v"
   ]
  },
  {
   "cell_type": "code",
   "execution_count": 17,
   "metadata": {},
   "outputs": [
    {
     "name": "stdout",
     "output_type": "stream",
     "text": [
      "v =\n",
      "\n",
      "   1.0000e+00  -3.0000e+00   6.6613e-16\n",
      "\n"
     ]
    }
   ],
   "source": [
    "v=sarokdeterminans(A)"
   ]
  },
  {
   "cell_type": "markdown",
   "metadata": {},
   "source": [
    "<br>\n",
    "<b>3.feladat.</b> Írjunk programot <i>szdd.m</i> néven, mely eldönti, hogy a mátrix szigorúan diagonálisan domináns-e vagy sem!"
   ]
  },
  {
   "cell_type": "code",
   "execution_count": 5,
   "metadata": {},
   "outputs": [
    {
     "name": "stdout",
     "output_type": "stream",
     "text": [
      "A =\n",
      "\n",
      "   4   1   1\n",
      "   1   3   0\n",
      "   2  -1  -7\n",
      "\n",
      "ans =\n",
      "\n",
      "    6\n",
      "    4\n",
      "   10\n",
      "\n",
      "ans =\n",
      "\n",
      "    8\n",
      "    6\n",
      "   14\n",
      "\n",
      "ans = 1\n"
     ]
    }
   ],
   "source": [
    "%A=[1 2 5; 2 1 3; 5 3 4]\n",
    "%A=[-1 0 2; 0 1 3; 0 1 5]\n",
    "A=[4  1 1; 1 3 0; 2 -1 -7]\n",
    "%A=[-4  1 1; 1 3 -3; 2 -1 -7]\n",
    "sum(abs(A),2)\n",
    "2*abs(diag(A))\n",
    "all((2*abs(diag(A))) > sum(abs(A),2)) %1 SZDD; 0 nem SZDD"
   ]
  },
  {
   "cell_type": "code",
   "execution_count": 6,
   "metadata": {},
   "outputs": [
    {
     "name": "stdout",
     "output_type": "stream",
     "text": [
      "Az A matrix SZDD\r\n"
     ]
    }
   ],
   "source": [
    "szdd(A)"
   ]
  },
  {
   "cell_type": "markdown",
   "metadata": {},
   "source": [
    "<br>\n",
    "<b>4.feladat.</b> Írjunk programot <i>mmatrixelojel.m</i> néven, mely eldönti, hogy a mátrix az M-mátrix definícióhoz tartozó előjeleloszlás tulajdonsággal rendelkezik-e vagy sem!\n",
    "\n",
    "<u><b>Def.</b></u> Egy $A\\in\\mathbb{R}^{n\\times n}$ mátrixot M-mátrixnak nevezünk, ha $a_{ij}\\leq 0$ minden $i\\neq j$-re és létezik olyan $g>0\\in\\mathbb{R}^n$ vektor, hogy $Ag>0$. "
   ]
  },
  {
   "cell_type": "code",
   "execution_count": 4,
   "metadata": {},
   "outputs": [
    {
     "name": "stdout",
     "output_type": "stream",
     "text": [
      "A =\n",
      "\n",
      "   1   0  -2\n",
      "   0   1   0\n",
      "   0  -1   1\n",
      "\n",
      "Az adott matrix teljesiti az M-matrixhoz tartozo elojeleloszlast\n"
     ]
    }
   ],
   "source": [
    "% Beadható M-mátrix előjel eloszlása\n",
    "%A=zeros(3)\n",
    "%A=[-1 1; 0 1]\n",
    "A=[1 0 -2; 0 1 0; 0 -1 1]\n",
    "A=A-diag(diag(A));\n",
    "for j=1:length(A)\n",
    "    for k=1:length(A)\n",
    "        offdiag_elojel(j,k)=A(j,k)<=0;\n",
    "    end\n",
    "end\n",
    "if sum(sum(offdiag_elojel))==length(A)^2\n",
    "    disp('Az adott matrix teljesiti az M-matrixhoz tartozo elojeleloszlast')\n",
    "else\n",
    "    disp('Az adott matrix nem teljesiti az M-matrixhoz tartozo elojeleloszlast')\n",
    "end"
   ]
  },
  {
   "cell_type": "code",
   "execution_count": 7,
   "metadata": {},
   "outputs": [
    {
     "name": "stdout",
     "output_type": "stream",
     "text": [
      "A =\n",
      "\n",
      "   1   0  -2\n",
      "   0   1   0\n",
      "   0   1   1\n",
      "\n",
      "Az adott matrix nem teljesiti az M-matrixhoz tartozo elojeleloszlast\n"
     ]
    }
   ],
   "source": [
    "A=[1 0 -2; 0 1 0; 0 1 1]\n",
    "mmatrixelojel(A)"
   ]
  },
  {
   "cell_type": "code",
   "execution_count": null,
   "metadata": {},
   "outputs": [],
   "source": []
  }
 ],
 "metadata": {
  "kernelspec": {
   "display_name": "Octave",
   "language": "octave",
   "name": "octave"
  },
  "language_info": {
   "file_extension": ".m",
   "help_links": [
    {
     "text": "GNU Octave",
     "url": "https://www.gnu.org/software/octave/support.html"
    },
    {
     "text": "Octave Kernel",
     "url": "https://github.com/Calysto/octave_kernel"
    },
    {
     "text": "MetaKernel Magics",
     "url": "https://github.com/calysto/metakernel/blob/master/metakernel/magics/README.md"
    }
   ],
   "mimetype": "text/x-octave",
   "name": "octave",
   "version": "4.2.2"
  }
 },
 "nbformat": 4,
 "nbformat_minor": 2
}
