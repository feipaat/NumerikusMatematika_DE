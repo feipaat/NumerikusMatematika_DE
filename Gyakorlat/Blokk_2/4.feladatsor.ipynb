{
 "cells": [
  {
   "cell_type": "markdown",
   "metadata": {},
   "source": [
    "## <center>4. Feladatsor</center>"
   ]
  },
  {
   "cell_type": "markdown",
   "metadata": {},
   "source": [
    "### <center>Direkt módszerek lineáris algebrai egyenletrendszerek meghatározására</center>"
   ]
  },
  {
   "cell_type": "markdown",
   "metadata": {},
   "source": [
    "<b>1.feladat.</b> Oldjuk meg Gauss-elimináció segítségével az \n",
    "\n",
    "$$\n",
    "\\begin{pmatrix}\n",
    "8 & -6 & -7 & 5 \\\\\n",
    "2 & -1 & -2 &  1 \\\\\n",
    "6  & 1  & -9 & 2 \\\\\n",
    "-2 & -5 & 4 & 0 \n",
    "\\end{pmatrix}\n",
    "\\begin{pmatrix}\n",
    "x_1 \\\\ x_2 \\\\ x_3 \\\\ x_4 \n",
    "\\end{pmatrix}\n",
    "=\n",
    "\\begin{pmatrix}\n",
    "-28 \\\\ -7 \\\\ -23 \\\\8\n",
    "\\end{pmatrix}\n",
    "$$\n",
    "\n",
    "\n",
    "\n",
    "alábbi egyenletrendszert! Számításainkat géppel is ellenőrizzük!"
   ]
  },
  {
   "cell_type": "code",
   "execution_count": 4,
   "metadata": {},
   "outputs": [
    {
     "name": "stdout",
     "output_type": "stream",
     "text": [
      "A =\n",
      "\n",
      "   8  -6  -7   5\n",
      "   2  -1  -2   1\n",
      "   6   1  -9   2\n",
      "  -2  -5   4   0\n",
      "\n",
      "b =\n",
      "\n",
      "  -28\n",
      "   -7\n",
      "  -23\n",
      "    8\n",
      "\n",
      "x =\n",
      "\n",
      "  -2.0000e+00\n",
      "  -9.8541e-19\n",
      "   1.0000e+00\n",
      "  -1.0000e+00\n",
      "\n"
     ]
    }
   ],
   "source": [
    "format\n",
    "A = [8 -6 -7 5; 2 -1 -2 1; 6 1 -9 2; -2 -5 4 0]\n",
    "b = [-28 -7 -23 8]'\n",
    "\n",
    "x = A\\b"
   ]
  },
  {
   "cell_type": "markdown",
   "metadata": {},
   "source": [
    "<br>\n",
    "<b>2.feladat.</b> Határozzuk meg az alábbi \n",
    "\n",
    "$$\n",
    "A=\\begin{pmatrix}\n",
    "-4 & 1 & -1 \\\\\n",
    "-1 & 4 & -1\\\\\n",
    "1 & 1 & 4\n",
    "\\end{pmatrix}\n",
    "$$\n",
    "\n",
    "\n",
    "\n",
    "mátrix LU-felbontását! Számításainkat géppel is ellenőrizzük!"
   ]
  },
  {
   "cell_type": "code",
   "execution_count": 13,
   "metadata": {},
   "outputs": [
    {
     "name": "stdout",
     "output_type": "stream",
     "text": [
      "A =\n",
      "\n",
      "  -4   1  -1\n",
      "  -1   4  -1\n",
      "   1   1   4\n",
      "\n",
      "ans =\n",
      "\n",
      "  -4   1  -1\n",
      "  -1   4  -1\n",
      "   1   1   4\n",
      "\n",
      "l =\n",
      "\n",
      "   1.00000   0.00000   0.00000\n",
      "   0.25000   1.00000   0.00000\n",
      "  -0.25000   0.33333   1.00000\n",
      "\n",
      "u =\n",
      "\n",
      "  -4.00000   1.00000  -1.00000\n",
      "   0.00000   3.75000  -0.75000\n",
      "   0.00000   0.00000   4.00000\n",
      "\n",
      "p =\n",
      "\n",
      "Permutation Matrix\n",
      "\n",
      "   1   0   0\n",
      "   0   1   0\n",
      "   0   0   1\n",
      "\n"
     ]
    }
   ],
   "source": [
    "A = [-4 1 -1; -1 4 -1; 1 1 4]\n",
    "U = [-4 1 -1; 0 15/4 -3/4; 0 0 4];\n",
    "L = [1 0 0; 1/4 1 0; -1/4 1/3 1];\n",
    "L*U\n",
    "\n",
    "[l, u, p] = lu (A)"
   ]
  },
  {
   "cell_type": "code",
   "execution_count": 8,
   "metadata": {},
   "outputs": [
    {
     "name": "stdout",
     "output_type": "stream",
     "text": [
      "'lu' is a built-in function from the file libinterp/corefcn/lu.cc\r\n",
      "\r\n",
      " -- [L, U] = lu (A)\r\n",
      " -- [L, U, P] = lu (A)\r\n",
      " -- [L, U, P, Q] = lu (S)\r\n",
      " -- [L, U, P, Q, R] = lu (S)\r\n",
      " -- [...] = lu (S, THRES)\r\n",
      " -- Y = lu (...)\r\n",
      " -- [...] = lu (..., \"vector\")\r\n",
      "     Compute the LU decomposition of A.\r\n",
      "\r\n",
      "     If A is full then subroutines from LAPACK are used, and if A is\r\n",
      "     sparse then UMFPACK is used.\r\n",
      "\r\n",
      "     The result is returned in a permuted form, according to the\r\n",
      "     optional return value P.  For example, given the matrix 'a = [1, 2;\r\n",
      "     3, 4]',\r\n",
      "\r\n",
      "          [l, u, p] = lu (A)\r\n",
      "\r\n",
      "     returns\r\n",
      "\r\n",
      "          l =\r\n",
      "\r\n",
      "            1.00000  0.00000\r\n",
      "            0.33333  1.00000\r\n",
      "\r\n",
      "          u =\r\n",
      "\r\n",
      "            3.00000  4.00000\r\n",
      "            0.00000  0.66667\r\n",
      "\r\n",
      "          p =\r\n",
      "\r\n",
      "            0  1\r\n",
      "            1  0\r\n",
      "\r\n",
      "     The matrix is not required to be square.\r\n",
      "\r\n",
      "     When called with two or three output arguments and a sparse input\r\n",
      "     matrix, 'lu' does not attempt to perform sparsity preserving column\r\n",
      "     permutations.  Called with a fourth output argument, the sparsity\r\n",
      "     preserving column transformation Q is returned, such that 'P * A *\r\n",
      "     Q = L * U'.  This is the *preferred* way to call 'lu' with sparse\r\n",
      "     input matrices.\r\n",
      "\r\n",
      "     Called with a fifth output argument and a sparse input matrix, 'lu'\r\n",
      "     attempts to use a scaling factor R on the input matrix such that 'P\r\n",
      "     * (R \\ A) * Q = L * U'.  This typically leads to a sparser and more\r\n",
      "     stable factorization.\r\n",
      "\r\n",
      "     An additional input argument THRES, that defines the pivoting\r\n",
      "     threshold can be given.  THRES can be a scalar, in which case it\r\n",
      "     defines the UMFPACK pivoting tolerance for both symmetric and\r\n",
      "     unsymmetric cases.  If THRES is a 2-element vector, then the first\r\n",
      "     element defines the pivoting tolerance for the unsymmetric UMFPACK\r\n",
      "     pivoting strategy and the second for the symmetric strategy.  By\r\n",
      "     default, the values defined by 'spparms' are used ([0.1, 0.001]).\r\n",
      "\r\n",
      "     Given the string argument \"vector\", 'lu' returns the values of P\r\n",
      "     and Q as vector values, such that for full matrix, 'A(P,:) = L *\r\n",
      "     U', and 'R(P,:) * A(:,Q) = L * U'.\r\n",
      "\r\n",
      "     With two output arguments, returns the permuted forms of the upper\r\n",
      "     and lower triangular matrices, such that 'A = L * U'.  With one\r\n",
      "     output argument Y, then the matrix returned by the LAPACK routines\r\n",
      "     is returned.  If the input matrix is sparse then the matrix L is\r\n",
      "     embedded into U to give a return value similar to the full case.\r\n",
      "     For both full and sparse matrices, 'lu' loses the permutation\r\n",
      "     information.\r\n",
      "\r\n",
      "     See also: luupdate, ilu, chol, hess, qr, qz, schur, svd.\r\n",
      "\r\n",
      "Additional help for built-in functions and operators is\r\n",
      "available in the online version of the manual.  Use the command\r\n",
      "'doc <topic>' to search the manual index.\r\n",
      "\r\n",
      "Help and information about Octave is also available on the WWW\r\n",
      "at https://www.octave.org and via the help@octave.org\r\n",
      "mailing list.\r\n"
     ]
    }
   ],
   "source": [
    "help lu"
   ]
  },
  {
   "cell_type": "markdown",
   "metadata": {},
   "source": [
    "<br>\n",
    "<b>3.feladat.</b> Határozzuk meg az alábbi \n",
    "\n",
    "$$\n",
    "A=\\begin{pmatrix}\n",
    "5 & 7 & 3 \\\\\n",
    "7 & 11 & 2\\\\\n",
    "3 & 2 & 6\n",
    "\\end{pmatrix}\n",
    "$$\n",
    "\n",
    "\n",
    "\n",
    "mátrix Cholesky-felbontását! Számításainkat géppel is ellenőrizzük!"
   ]
  },
  {
   "cell_type": "code",
   "execution_count": 34,
   "metadata": {},
   "outputs": [
    {
     "name": "stdout",
     "output_type": "stream",
     "text": [
      "A =\n",
      "\n",
      "    5    7    3\n",
      "    7   11    2\n",
      "    3    2    6\n",
      "\n",
      "L_tilde =\n",
      "\n",
      "   2.23607   0.00000   0.00000\n",
      "   3.13050   1.09545   0.00000\n",
      "   1.34164  -2.00832   0.40825\n",
      "\n",
      "ans =\n",
      "\n",
      "   2.23607   0.00000   0.00000\n",
      "   3.13050   1.09545   0.00000\n",
      "   1.34164  -2.00832   0.40825\n",
      "\n"
     ]
    }
   ],
   "source": [
    "% Cholesky felbontashoz: szimmetria (A'=A) es A szig. poz. def (eig(A) pozitiv)\n",
    "\n",
    "A = [5 7 3; 7 11 2; 3 2 6]\n",
    "U = [5 7 3; 0 6/5 -11/5; 0 0 1/6];\n",
    "L = [1 0 0; 7/5 1 0; 3/5 -11/6 1];\n",
    "L_tilde = [sqrt(5) 0 0; sqrt(5)*7/5 sqrt(6/5) 0; sqrt(5)*3/5 -sqrt(6/5)*11/6 sqrt(1/6)];\n",
    "\n",
    "L_tilde\n",
    "\n",
    "\n",
    "chol(A,'lower') % L_tilde"
   ]
  },
  {
   "cell_type": "code",
   "execution_count": 29,
   "metadata": {},
   "outputs": [
    {
     "name": "stdout",
     "output_type": "stream",
     "text": [
      "'chol' is a function from the file /Applications/Octave-5.1.0.app/Contents/Resources/usr/Cellar/octave-octave-app@5.1.0/5.1.0/lib/octave/5.1.0/oct/x86_64-apple-darwin16.7.0/chol.oct\r\n",
      "\r\n",
      " -- R = chol (A)\r\n",
      " -- [R, P] = chol (A)\r\n",
      " -- [R, P, Q] = chol (A)\r\n",
      " -- [R, P, Q] = chol (A, \"vector\")\r\n",
      " -- [L, ...] = chol (..., \"lower\")\r\n",
      " -- [R, ...] = chol (..., \"upper\")\r\n",
      "     Compute the upper Cholesky factor, R, of the real symmetric or\r\n",
      "     complex Hermitian positive definite matrix A.\r\n",
      "\r\n",
      "     The upper Cholesky factor R is computed by using the upper\r\n",
      "     triangular part of matrix A and is defined by\r\n",
      "\r\n",
      "          R' * R = A.\r\n",
      "\r\n",
      "     Calling 'chol' using the optional \"upper\" flag has the same\r\n",
      "     behavior.  In contrast, using the optional \"lower\" flag, 'chol'\r\n",
      "     returns the lower triangular factorization, computed by using the\r\n",
      "     lower triangular part of matrix A, such that\r\n",
      "\r\n",
      "          L * L' = A.\r\n",
      "\r\n",
      "     Called with one output argument 'chol' fails if matrix A is not\r\n",
      "     positive definite.  Note that if matrix A is not real symmetric or\r\n",
      "     complex Hermitian then the lower triangular part is considered to\r\n",
      "     be the (complex conjugate) transpose of the upper triangular part,\r\n",
      "     or vice versa, given the \"lower\" flag.\r\n",
      "\r\n",
      "     Called with two or more output arguments P flags whether the matrix\r\n",
      "     A was positive definite and 'chol' does not fail.  A zero value of\r\n",
      "     P indicates that matrix A is positive definite and R gives the\r\n",
      "     factorization.  Otherwise, P will have a positive value.\r\n",
      "\r\n",
      "     If called with three output arguments matrix A must be sparse and a\r\n",
      "     sparsity preserving row/column permutation is applied to matrix A\r\n",
      "     prior to the factorization.  That is R is the factorization of\r\n",
      "     'A(Q,Q)' such that\r\n",
      "\r\n",
      "          R' * R = Q' * A * Q.\r\n",
      "\r\n",
      "     The sparsity preserving permutation is generally returned as a\r\n",
      "     matrix.  However, given the optional flag \"vector\", Q will be\r\n",
      "     returned as a vector such that\r\n",
      "\r\n",
      "          R' * R = A(Q, Q).\r\n",
      "\r\n",
      "     In general the lower triangular factorization is significantly\r\n",
      "     faster for sparse matrices.\r\n",
      "\r\n",
      "     See also: hess, lu, qr, qz, schur, svd, ichol, cholinv, chol2inv,\r\n",
      "     cholupdate, cholinsert, choldelete, cholshift.\r\n",
      "\r\n",
      "Additional help for built-in functions and operators is\r\n",
      "available in the online version of the manual.  Use the command\r\n",
      "'doc <topic>' to search the manual index.\r\n",
      "\r\n",
      "Help and information about Octave is also available on the WWW\r\n",
      "at https://www.octave.org and via the help@octave.org\r\n",
      "mailing list.\r\n"
     ]
    }
   ],
   "source": [
    "help chol"
   ]
  },
  {
   "cell_type": "code",
   "execution_count": null,
   "metadata": {},
   "outputs": [],
   "source": []
  }
 ],
 "metadata": {
  "kernelspec": {
   "display_name": "Octave",
   "language": "octave",
   "name": "octave"
  },
  "language_info": {
   "file_extension": ".m",
   "help_links": [
    {
     "text": "GNU Octave",
     "url": "https://www.gnu.org/software/octave/support.html"
    },
    {
     "text": "Octave Kernel",
     "url": "https://github.com/Calysto/octave_kernel"
    },
    {
     "text": "MetaKernel Magics",
     "url": "https://github.com/calysto/metakernel/blob/master/metakernel/magics/README.md"
    }
   ],
   "mimetype": "text/x-octave",
   "name": "octave",
   "version": "4.2.2"
  }
 },
 "nbformat": 4,
 "nbformat_minor": 2
}
