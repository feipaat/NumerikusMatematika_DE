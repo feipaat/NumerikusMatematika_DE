{
 "cells": [
  {
   "cell_type": "markdown",
   "metadata": {},
   "source": [
    "# <center>Numerikus Integrálás</center>\n",
    "## <center>Összetett érintőformula, trapézformula és Simpson-formula</center>"
   ]
  },
  {
   "cell_type": "markdown",
   "metadata": {},
   "source": [
    "<br>\n",
    "<b>Példa.</b> Tekintsük az alábbi \n",
    "\n",
    "$$I(f)=\\int_{4}^{5.2}\\ln(x)\\text{d}x$$\n",
    "\n",
    "integrált. Közelítsük $I(f)$ értékét \n",
    "\n",
    "+ $6$ részintervallumra támaszkodó összetett trapézformulával: $I_{T,6}(f)$\n",
    "+ $3$ részintervallumra támaszkodó összetett Simpson-formulával: $I_{S,3}(f)$\n",
    "\n",
    "Becsüljük meg az egyes közelítések hibáját is!"
   ]
  },
  {
   "cell_type": "code",
   "execution_count": 2,
   "metadata": {},
   "outputs": [
    {
     "name": "stdout",
     "output_type": "stream",
     "text": [
      "x =\r\n",
      "\r\n",
      "   4.0000   4.2000   4.4000   4.6000   4.8000   5.0000   5.2000\r\n",
      "\r\n"
     ]
    }
   ],
   "source": [
    "a = 4; b = 5.2;\n",
    "m = 6;\n",
    "h = (b-a)/m;\n",
    "x = [a:h:b]"
   ]
  },
  {
   "cell_type": "code",
   "execution_count": 5,
   "metadata": {},
   "outputs": [
    {
     "name": "stdout",
     "output_type": "stream",
     "text": [
      "\n",
      "A feladat megoldasa 6 intervallumon erintoszaballyal tortent.\n",
      "ans =  1.827943529349786\n",
      "\n",
      "A feladat megoldasa 6 intervallumon trapezszaballyal tortent.\n",
      "ans =  1.827655138682034\n",
      "\n",
      "A feladat megoldasa 3 Simpson-szaballyal tortent.\n",
      "ans =  1.827847257950486\n"
     ]
    }
   ],
   "source": [
    "kvadratura(4,5.2,6,'log(x)','erinto')\n",
    "kvadratura(4,5.2,6,'log(x)','trapez') % Trapez eseten m = m\n",
    "kvadratura(4,5.2,6,'log(x)','Simpson') % Simspon eseten itt 2*m-et kell megadni"
   ]
  },
  {
   "cell_type": "code",
   "execution_count": 6,
   "metadata": {},
   "outputs": [
    {
     "name": "stdout",
     "output_type": "stream",
     "text": [
      "M_2 =    6.250000000000000e-02\n",
      "trapez_hiba =    2.500000000000001e-04\n",
      "M_4 =    2.343750000000000e-02\n",
      "simpson_hiba =    2.500000000000001e-07\n"
     ]
    }
   ],
   "source": [
    "%% Osszetett Trapez hibaja\n",
    "M_2 = 1/16\n",
    "trapez_hiba = ((b-a)^3/(12*m^2))*M_2\n",
    "\n",
    "%% Osszetett Simpson hibaja\n",
    "M_4 = 3/128\n",
    "simpson_hiba = ((b-a)^5/(2880*(m/2)^4))*M_4"
   ]
  },
  {
   "cell_type": "markdown",
   "metadata": {},
   "source": [
    "<br>\n",
    "<b>Példa.</b> Hány részintervallumra kell osztani a $[0,\\ \\pi/4]$ intervallumot, ha az \n",
    "\n",
    "$$I(f)=\\int_{0}^{\\pi/4}\\ln(\\cos(x))\\text{d}x$$\n",
    "\n",
    "integrál értékét összetett trapézformulával szeretnénk közelíteni úgy, hogy a hiba (felhasználó által előírt tolerancia TOL) értéke kisebb legyen, mint $0.5\\cdot 10^{-2}$?"
   ]
  },
  {
   "cell_type": "code",
   "execution_count": 34,
   "metadata": {},
   "outputs": [
    {
     "name": "stdout",
     "output_type": "stream",
     "text": [
      "m =  4.01859458488364\n",
      "m =  5\n"
     ]
    }
   ],
   "source": [
    "a = 0; b = pi/4; \n",
    "TOL = 0.5 * 1e-2;\n",
    "M_2 = 2;\n",
    "% Hiba ((b-a)^3/(12*m^2))*M_2 < TOL\n",
    "\n",
    "m = sqrt((((b-a)^3/(12))*M_2)/TOL)\n",
    "m = ceil(m)"
   ]
  },
  {
   "cell_type": "markdown",
   "metadata": {},
   "source": [
    "\n",
    "## <center>Gauss-kvadratúrák és adaptív kvadratúrák</center>"
   ]
  },
  {
   "cell_type": "markdown",
   "metadata": {},
   "source": [
    "<br>\n",
    "<b>Példa.</b> Tekintsük Kahaner híres kvadratúra teszt gyűteményéből a 21-es számút, azaz\n",
    "\n",
    "$$I(f)=\\int_{0}^{1}\\frac{1}{\\cosh^2(10x-2)}+\\frac{1}{\\cosh^4(100x-40)}+\\frac{1}{\\cosh^6(1000x-600)}$$\n",
    "\n",
    "\n",
    "A feladat pontos értéke $30$ tizedesjegyig\n",
    "\n",
    "$$I(f)=0.210802735500549277375643255709$$\n",
    "\n",
    "Nézzük meg, hogy mi történik, hogya $m$ intervallumra osztással dolgozunk összetett Simpson-formula esetén vagy legfeljebb $m$ intervallumot használunk adaptív Gauss-kvadratúra esetén."
   ]
  },
  {
   "cell_type": "code",
   "execution_count": 75,
   "metadata": {},
   "outputs": [
    {
     "data": {
      "image/png": "[encoded data removed]",
      "text/plain": [
       "<IPython.core.display.Image object>"
      ]
     },
     "metadata": {},
     "output_type": "display_data"
    }
   ],
   "source": [
    "x = linspace(0,1,3000);\n",
    "f = 1./((cosh(10*x-2)).^2) + 1./((cosh(100*x-40)).^4) + 1./((cosh(1000*x-600)).^6);\n",
    "plot(x,f)"
   ]
  },
  {
   "cell_type": "code",
   "execution_count": 120,
   "metadata": {},
   "outputs": [
    {
     "name": "stdout",
     "output_type": "stream",
     "text": [
      "\n",
      "A feladat megoldasa 100000 Simpson-szaballyal tortent.\n",
      "ans =  0.210802735500549\n"
     ]
    }
   ],
   "source": [
    "m = 100000;\n",
    "% Simpson \n",
    "kvadratura(0,1,2*m,'1./((cosh(10*x-2)).^2) + 1./((cosh(100*x-40)).^4) + 1./((cosh(1000*x-600)).^6)','Simpson')\n",
    "\n",
    "\n",
    "%Adaptiv Gauss-Konrod kvadratura\n",
    "%adaptiv_gauss_konrod = quadgk (@(x) 1./((cosh(10*x-2)).^2) + 1./((cosh(100*x-40)).^4) + 1./((cosh(1000*x-600)).^6), 0, 1, \"MaxIntervalCount\", m)"
   ]
  },
  {
   "cell_type": "code",
   "execution_count": null,
   "metadata": {},
   "outputs": [],
   "source": []
  }
 ],
 "metadata": {
  "kernelspec": {
   "display_name": "Octave",
   "language": "octave",
   "name": "octave"
  },
  "language_info": {
   "file_extension": ".m",
   "help_links": [
    {
     "text": "GNU Octave",
     "url": "https://www.gnu.org/software/octave/support.html"
    },
    {
     "text": "Octave Kernel",
     "url": "https://github.com/Calysto/octave_kernel"
    },
    {
     "text": "MetaKernel Magics",
     "url": "https://github.com/calysto/metakernel/blob/master/metakernel/magics/README.md"
    }
   ],
   "mimetype": "text/x-octave",
   "name": "octave",
   "version": "4.2.2"
  }
 },
 "nbformat": 4,
 "nbformat_minor": 2
}
